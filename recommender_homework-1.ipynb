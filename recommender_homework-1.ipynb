{
 "cells": [
  {
   "cell_type": "code",
   "execution_count": 1,
   "metadata": {
    "collapsed": false
   },
   "outputs": [],
   "source": [
    "import pandas as pd\n",
    "import numpy as np"
   ]
  },
  {
   "cell_type": "code",
   "execution_count": 2,
   "metadata": {
    "collapsed": false
   },
   "outputs": [],
   "source": [
    "#download the class movie reviews from here:\n",
    "#https://docs.google.com/spreadsheets/d/17rCJzmWxqvAu9rkpkgt4ToccIlY4A1Ffuu1W9X3B8Ag/\n",
    "#then read that in as a pandas dataframe"
   ]
  },
  {
   "cell_type": "code",
   "execution_count": 3,
   "metadata": {
    "collapsed": false
   },
   "outputs": [],
   "source": [
    "M = pd.read_csv(\"Movie Reviews.csv\", index_col='Name')"
   ]
  },
  {
   "cell_type": "code",
   "execution_count": 4,
   "metadata": {
    "collapsed": false
   },
   "outputs": [
    {
     "data": {
      "text/html": [
       "<div>\n",
       "<table border=\"1\" class=\"dataframe\">\n",
       "  <thead>\n",
       "    <tr style=\"text-align: right;\">\n",
       "      <th></th>\n",
       "      <th>American Sniper</th>\n",
       "      <th>The Hunger Games: Mockingjay - Part 1</th>\n",
       "      <th>Guardians of the Galaxy</th>\n",
       "      <th>The Lego Movie</th>\n",
       "      <th>The Hobbit</th>\n",
       "      <th>Transformers</th>\n",
       "      <th>Malificent</th>\n",
       "      <th>Big Hero 6</th>\n",
       "      <th>Godzilla</th>\n",
       "      <th>Interstellar</th>\n",
       "      <th>How to Train your Dragon 2</th>\n",
       "      <th>Gone Girl</th>\n",
       "      <th>Divergent</th>\n",
       "      <th>The Fault in Our Stars</th>\n",
       "      <th>Unbroken</th>\n",
       "      <th>300: Rise of an Empire</th>\n",
       "    </tr>\n",
       "    <tr>\n",
       "      <th>Name</th>\n",
       "      <th></th>\n",
       "      <th></th>\n",
       "      <th></th>\n",
       "      <th></th>\n",
       "      <th></th>\n",
       "      <th></th>\n",
       "      <th></th>\n",
       "      <th></th>\n",
       "      <th></th>\n",
       "      <th></th>\n",
       "      <th></th>\n",
       "      <th></th>\n",
       "      <th></th>\n",
       "      <th></th>\n",
       "      <th></th>\n",
       "      <th></th>\n",
       "    </tr>\n",
       "  </thead>\n",
       "  <tbody>\n",
       "    <tr>\n",
       "      <th>Aarti Jaiswal</th>\n",
       "      <td>4.0</td>\n",
       "      <td>NaN</td>\n",
       "      <td>NaN</td>\n",
       "      <td>NaN</td>\n",
       "      <td>4.0</td>\n",
       "      <td>3.0</td>\n",
       "      <td>NaN</td>\n",
       "      <td>5.0</td>\n",
       "      <td>NaN</td>\n",
       "      <td>NaN</td>\n",
       "      <td>NaN</td>\n",
       "      <td>4.0</td>\n",
       "      <td>NaN</td>\n",
       "      <td>NaN</td>\n",
       "      <td>NaN</td>\n",
       "      <td>NaN</td>\n",
       "    </tr>\n",
       "    <tr>\n",
       "      <th>Aditya Dharmasagar</th>\n",
       "      <td>5.0</td>\n",
       "      <td>NaN</td>\n",
       "      <td>NaN</td>\n",
       "      <td>4.0</td>\n",
       "      <td>5.0</td>\n",
       "      <td>4.0</td>\n",
       "      <td>4.0</td>\n",
       "      <td>NaN</td>\n",
       "      <td>4.0</td>\n",
       "      <td>5.0</td>\n",
       "      <td>5.0</td>\n",
       "      <td>5.0</td>\n",
       "      <td>4.0</td>\n",
       "      <td>4.0</td>\n",
       "      <td>NaN</td>\n",
       "      <td>5.0</td>\n",
       "    </tr>\n",
       "    <tr>\n",
       "      <th>Adrian Cavallaris</th>\n",
       "      <td>NaN</td>\n",
       "      <td>4.0</td>\n",
       "      <td>3.0</td>\n",
       "      <td>NaN</td>\n",
       "      <td>4.0</td>\n",
       "      <td>2.0</td>\n",
       "      <td>NaN</td>\n",
       "      <td>NaN</td>\n",
       "      <td>NaN</td>\n",
       "      <td>NaN</td>\n",
       "      <td>NaN</td>\n",
       "      <td>NaN</td>\n",
       "      <td>4.0</td>\n",
       "      <td>NaN</td>\n",
       "      <td>NaN</td>\n",
       "      <td>NaN</td>\n",
       "    </tr>\n",
       "    <tr>\n",
       "      <th>Ahmed Muheebuddin</th>\n",
       "      <td>5.0</td>\n",
       "      <td>NaN</td>\n",
       "      <td>4.0</td>\n",
       "      <td>NaN</td>\n",
       "      <td>3.0</td>\n",
       "      <td>NaN</td>\n",
       "      <td>NaN</td>\n",
       "      <td>NaN</td>\n",
       "      <td>NaN</td>\n",
       "      <td>NaN</td>\n",
       "      <td>NaN</td>\n",
       "      <td>NaN</td>\n",
       "      <td>NaN</td>\n",
       "      <td>NaN</td>\n",
       "      <td>NaN</td>\n",
       "      <td>NaN</td>\n",
       "    </tr>\n",
       "    <tr>\n",
       "      <th>Aishwarya reddy</th>\n",
       "      <td>NaN</td>\n",
       "      <td>3.0</td>\n",
       "      <td>4.0</td>\n",
       "      <td>3.0</td>\n",
       "      <td>4.0</td>\n",
       "      <td>4.0</td>\n",
       "      <td>3.0</td>\n",
       "      <td>NaN</td>\n",
       "      <td>4.0</td>\n",
       "      <td>4.0</td>\n",
       "      <td>3.0</td>\n",
       "      <td>5.0</td>\n",
       "      <td>NaN</td>\n",
       "      <td>4.0</td>\n",
       "      <td>NaN</td>\n",
       "      <td>3.0</td>\n",
       "    </tr>\n",
       "  </tbody>\n",
       "</table>\n",
       "</div>"
      ],
      "text/plain": [
       "                    American Sniper  The Hunger Games: Mockingjay - Part 1  \\\n",
       "Name                                                                         \n",
       "Aarti Jaiswal                   4.0                                    NaN   \n",
       "Aditya Dharmasagar              5.0                                    NaN   \n",
       "Adrian Cavallaris               NaN                                    4.0   \n",
       "Ahmed Muheebuddin               5.0                                    NaN   \n",
       "Aishwarya reddy                 NaN                                    3.0   \n",
       "\n",
       "                    Guardians of the Galaxy  The Lego Movie  The Hobbit  \\\n",
       "Name                                                                      \n",
       "Aarti Jaiswal                           NaN             NaN         4.0   \n",
       "Aditya Dharmasagar                      NaN             4.0         5.0   \n",
       "Adrian Cavallaris                       3.0             NaN         4.0   \n",
       "Ahmed Muheebuddin                       4.0             NaN         3.0   \n",
       "Aishwarya reddy                         4.0             3.0         4.0   \n",
       "\n",
       "                    Transformers  Malificent  Big Hero 6  Godzilla  \\\n",
       "Name                                                                 \n",
       "Aarti Jaiswal                3.0         NaN         5.0       NaN   \n",
       "Aditya Dharmasagar           4.0         4.0         NaN       4.0   \n",
       "Adrian Cavallaris            2.0         NaN         NaN       NaN   \n",
       "Ahmed Muheebuddin            NaN         NaN         NaN       NaN   \n",
       "Aishwarya reddy              4.0         3.0         NaN       4.0   \n",
       "\n",
       "                    Interstellar  How to Train your Dragon 2  Gone Girl  \\\n",
       "Name                                                                      \n",
       "Aarti Jaiswal                NaN                         NaN        4.0   \n",
       "Aditya Dharmasagar           5.0                         5.0        5.0   \n",
       "Adrian Cavallaris            NaN                         NaN        NaN   \n",
       "Ahmed Muheebuddin            NaN                         NaN        NaN   \n",
       "Aishwarya reddy              4.0                         3.0        5.0   \n",
       "\n",
       "                    Divergent  The Fault in Our Stars  Unbroken  \\\n",
       "Name                                                              \n",
       "Aarti Jaiswal             NaN                     NaN       NaN   \n",
       "Aditya Dharmasagar        4.0                     4.0       NaN   \n",
       "Adrian Cavallaris         4.0                     NaN       NaN   \n",
       "Ahmed Muheebuddin         NaN                     NaN       NaN   \n",
       "Aishwarya reddy           NaN                     4.0       NaN   \n",
       "\n",
       "                    300: Rise of an Empire  \n",
       "Name                                        \n",
       "Aarti Jaiswal                          NaN  \n",
       "Aditya Dharmasagar                     5.0  \n",
       "Adrian Cavallaris                      NaN  \n",
       "Ahmed Muheebuddin                      NaN  \n",
       "Aishwarya reddy                        3.0  "
      ]
     },
     "execution_count": 4,
     "metadata": {},
     "output_type": "execute_result"
    }
   ],
   "source": [
    "M.head()"
   ]
  },
  {
   "cell_type": "code",
   "execution_count": 5,
   "metadata": {
    "collapsed": false
   },
   "outputs": [],
   "source": [
    "def pearson(s1, s2):\n",
    "    \"\"\"Take two pd.Series objects and return a pearson correlation.\"\"\"\n",
    "    s1_c = s1 - s1.mean()\n",
    "    s2_c = s2 - s2.mean()\n",
    "    return np.sum(s1_c * s2_c) / np.sqrt(np.sum(s1_c ** 2) * np.sum(s2_c ** 2))"
   ]
  },
  {
   "cell_type": "code",
   "execution_count": 6,
   "metadata": {
    "collapsed": false
   },
   "outputs": [
    {
     "data": {
      "text/plain": [
       "-0.12571904015492413"
      ]
     },
     "execution_count": 6,
     "metadata": {},
     "output_type": "execute_result"
    }
   ],
   "source": [
    "pearson(M['The Fault in Our Stars'],M['American Sniper'])"
   ]
  },
  {
   "cell_type": "code",
   "execution_count": 7,
   "metadata": {
    "collapsed": false
   },
   "outputs": [
    {
     "data": {
      "text/plain": [
       "0.14815495894813271"
      ]
     },
     "execution_count": 7,
     "metadata": {},
     "output_type": "execute_result"
    }
   ],
   "source": [
    "pearson(M['The Fault in Our Stars'],M['Guardians of the Galaxy'])"
   ]
  },
  {
   "cell_type": "code",
   "execution_count": 8,
   "metadata": {
    "collapsed": false
   },
   "outputs": [
    {
     "data": {
      "text/plain": [
       "-0.0064260743251112282"
      ]
     },
     "execution_count": 8,
     "metadata": {},
     "output_type": "execute_result"
    }
   ],
   "source": [
    "pearson(M['The Fault in Our Stars'],M['The Hobbit'])"
   ]
  },
  {
   "cell_type": "code",
   "execution_count": 9,
   "metadata": {
    "collapsed": false
   },
   "outputs": [
    {
     "data": {
      "text/plain": [
       "0.24105634550238658"
      ]
     },
     "execution_count": 9,
     "metadata": {},
     "output_type": "execute_result"
    }
   ],
   "source": [
    "pearson(M['The Fault in Our Stars'],M['Malificent'])"
   ]
  },
  {
   "cell_type": "code",
   "execution_count": 10,
   "metadata": {
    "collapsed": false
   },
   "outputs": [
    {
     "data": {
      "text/plain": [
       "0.15769576025447329"
      ]
     },
     "execution_count": 10,
     "metadata": {},
     "output_type": "execute_result"
    }
   ],
   "source": [
    "pearson(M['The Fault in Our Stars'],M['How to Train your Dragon 2'])"
   ]
  },
  {
   "cell_type": "code",
   "execution_count": 11,
   "metadata": {
    "collapsed": false
   },
   "outputs": [
    {
     "data": {
      "text/plain": [
       "-0.046920362656838299"
      ]
     },
     "execution_count": 11,
     "metadata": {},
     "output_type": "execute_result"
    }
   ],
   "source": [
    "pearson(M['The Fault in Our Stars'], M['300: Rise of an Empire'])"
   ]
  },
  {
   "cell_type": "code",
   "execution_count": 12,
   "metadata": {
    "collapsed": false
   },
   "outputs": [
    {
     "data": {
      "text/plain": [
       "0.25035799093321581"
      ]
     },
     "execution_count": 12,
     "metadata": {},
     "output_type": "execute_result"
    }
   ],
   "source": [
    "pearson(M['The Fault in Our Stars'], M['Interstellar'])"
   ]
  },
  {
   "cell_type": "code",
   "execution_count": 13,
   "metadata": {
    "collapsed": false
   },
   "outputs": [
    {
     "data": {
      "text/plain": [
       "0.17470709093502146"
      ]
     },
     "execution_count": 13,
     "metadata": {},
     "output_type": "execute_result"
    }
   ],
   "source": [
    "pearson(M['The Fault in Our Stars'], M['Divergent'])"
   ]
  },
  {
   "cell_type": "code",
   "execution_count": 14,
   "metadata": {
    "collapsed": false
   },
   "outputs": [
    {
     "data": {
      "text/plain": [
       "0.069028758717867775"
      ]
     },
     "execution_count": 14,
     "metadata": {},
     "output_type": "execute_result"
    }
   ],
   "source": [
    "pearson(M['The Fault in Our Stars'], M['Gone Girl'])"
   ]
  },
  {
   "cell_type": "code",
   "execution_count": 15,
   "metadata": {
    "collapsed": false
   },
   "outputs": [],
   "source": [
    "def get_recs(movie_name, M, num):\n",
    "\n",
    "    import numpy as np\n",
    "    reviews = []\n",
    "    for title in M.columns:\n",
    "        if title == movie_name:\n",
    "            continue\n",
    "        cor = pearson(M[movie_name], M[title])\n",
    "        if np.isnan(cor):\n",
    "            continue\n",
    "        else:\n",
    "            reviews.append((title, cor))\n",
    "    \n",
    "    reviews.sort(key=lambda tup: tup[1], reverse=True)\n",
    "    return reviews[:num]\n",
    "\n",
    "    "
   ]
  },
  {
   "cell_type": "code",
   "execution_count": 16,
   "metadata": {
    "collapsed": true
   },
   "outputs": [],
   "source": [
    "recs = get_recs('The Fault in Our Stars', M, 10)"
   ]
  },
  {
   "cell_type": "code",
   "execution_count": 17,
   "metadata": {
    "collapsed": false,
    "scrolled": true
   },
   "outputs": [
    {
     "data": {
      "text/plain": [
       "[('Interstellar', 0.25035799093321581),\n",
       " ('Malificent', 0.24105634550238658),\n",
       " ('Divergent', 0.17470709093502146),\n",
       " ('How to Train your Dragon 2', 0.15769576025447329),\n",
       " ('Guardians of the Galaxy', 0.14815495894813271),\n",
       " ('The Lego Movie', 0.14543223659933613),\n",
       " ('The Hunger Games: Mockingjay - Part 1', 0.079607313567684787),\n",
       " ('Unbroken', 0.075201321328153076),\n",
       " ('Gone Girl', 0.069028758717867775),\n",
       " ('Transformers', 0.010345558567015564)]"
      ]
     },
     "execution_count": 17,
     "metadata": {},
     "output_type": "execute_result"
    }
   ],
   "source": [
    "recs[:10]"
   ]
  },
  {
   "cell_type": "code",
   "execution_count": 18,
   "metadata": {
    "collapsed": true
   },
   "outputs": [],
   "source": [
    "anti_recs = get_recs('The Fault in Our Stars', M, 8551)"
   ]
  },
  {
   "cell_type": "code",
   "execution_count": 19,
   "metadata": {
    "collapsed": false
   },
   "outputs": [
    {
     "data": {
      "text/plain": [
       "[('The Lego Movie', 0.14543223659933613),\n",
       " ('The Hunger Games: Mockingjay - Part 1', 0.079607313567684787),\n",
       " ('Unbroken', 0.075201321328153076),\n",
       " ('Gone Girl', 0.069028758717867775),\n",
       " ('Transformers', 0.010345558567015564),\n",
       " ('The Hobbit', -0.0064260743251112282),\n",
       " ('300: Rise of an Empire', -0.046920362656838299),\n",
       " ('Godzilla', -0.047355933368302426),\n",
       " ('Big Hero 6', -0.056614041247155016),\n",
       " ('American Sniper', -0.12571904015492413)]"
      ]
     },
     "execution_count": 19,
     "metadata": {},
     "output_type": "execute_result"
    }
   ],
   "source": [
    "anti_recs[-10:]"
   ]
  },
  {
   "cell_type": "markdown",
   "metadata": {},
   "source": [
    "### Question 1:  What movie is most Similar to 'The fault in our stars' (60 pts)\n"
   ]
  },
  {
   "cell_type": "code",
   "execution_count": 20,
   "metadata": {
    "collapsed": false
   },
   "outputs": [
    {
     "name": "stdout",
     "output_type": "stream",
     "text": [
      "The movie most Similar to 'The fault in out stars' is Interstellar with a correlation of 0.250357990933\n"
     ]
    }
   ],
   "source": [
    "x = get_recs('The Fault in Our Stars', M, 10)\n",
    "print \"The movie most Similar to 'The fault in out stars' is\", x[0][0], \"with a correlation of\", x[0][1]"
   ]
  },
  {
   "cell_type": "markdown",
   "metadata": {},
   "source": [
    "### Question 2:  Which movie(s) would you most like to see, based on your classmates experience? (40 pts)"
   ]
  },
  {
   "cell_type": "code",
   "execution_count": 21,
   "metadata": {
    "collapsed": false,
    "scrolled": false
   },
   "outputs": [
    {
     "name": "stderr",
     "output_type": "stream",
     "text": [
      "C:\\Users\\Touseef\\Anaconda2\\lib\\site-packages\\ipykernel\\__main__.py:4: FutureWarning: sort is deprecated, use sort_values(inplace=True) for INPLACE sorting\n"
     ]
    }
   ],
   "source": [
    "#the movies I've seen\n",
    "my_ratings = M.ix['Ali Touseef'].dropna()\n",
    "#the movie I've rated the highest\n",
    "my_ratings.sort(ascending=False)\n",
    "#the name of the movie I've rated the highest\n",
    "fav_movie = my_ratings.index[0]"
   ]
  },
  {
   "cell_type": "code",
   "execution_count": 22,
   "metadata": {
    "collapsed": false,
    "scrolled": true
   },
   "outputs": [
    {
     "name": "stdout",
     "output_type": "stream",
     "text": [
      "300: Rise of an Empire                   5.0\n",
      "Divergent                                5.0\n",
      "Interstellar                             5.0\n",
      "Transformers                             5.0\n",
      "The Hobbit                               4.5\n",
      "How to Train your Dragon 2               4.0\n",
      "Guardians of the Galaxy                  4.0\n",
      "American Sniper                          4.0\n",
      "Unbroken                                 3.5\n",
      "Malificent                               3.5\n",
      "The Hunger Games: Mockingjay - Part 1    3.5\n",
      "Godzilla                                 2.0\n",
      "Name: Ali Touseef, dtype: float64\n"
     ]
    }
   ],
   "source": [
    "print my_ratings"
   ]
  },
  {
   "cell_type": "code",
   "execution_count": 23,
   "metadata": {
    "collapsed": false,
    "scrolled": true
   },
   "outputs": [
    {
     "name": "stdout",
     "output_type": "stream",
     "text": [
      "300: Rise of an Empire\n"
     ]
    }
   ],
   "source": [
    "print fav_movie"
   ]
  },
  {
   "cell_type": "code",
   "execution_count": 24,
   "metadata": {
    "collapsed": false,
    "scrolled": false
   },
   "outputs": [
    {
     "name": "stderr",
     "output_type": "stream",
     "text": [
      "C:\\Users\\Touseef\\Anaconda2\\lib\\site-packages\\ipykernel\\__main__.py:4: FutureWarning: sort(....) is deprecated, use sort_index(.....)\n"
     ]
    },
    {
     "data": {
      "text/html": [
       "<div>\n",
       "<table border=\"1\" class=\"dataframe\">\n",
       "  <thead>\n",
       "    <tr style=\"text-align: right;\">\n",
       "      <th></th>\n",
       "      <th>American Sniper</th>\n",
       "      <th>The Hunger Games: Mockingjay - Part 1</th>\n",
       "      <th>Guardians of the Galaxy</th>\n",
       "      <th>The Lego Movie</th>\n",
       "      <th>The Hobbit</th>\n",
       "      <th>Transformers</th>\n",
       "      <th>Malificent</th>\n",
       "      <th>Big Hero 6</th>\n",
       "      <th>Godzilla</th>\n",
       "      <th>Interstellar</th>\n",
       "      <th>How to Train your Dragon 2</th>\n",
       "      <th>Gone Girl</th>\n",
       "      <th>Divergent</th>\n",
       "      <th>The Fault in Our Stars</th>\n",
       "      <th>Unbroken</th>\n",
       "      <th>300: Rise of an Empire</th>\n",
       "    </tr>\n",
       "    <tr>\n",
       "      <th>Name</th>\n",
       "      <th></th>\n",
       "      <th></th>\n",
       "      <th></th>\n",
       "      <th></th>\n",
       "      <th></th>\n",
       "      <th></th>\n",
       "      <th></th>\n",
       "      <th></th>\n",
       "      <th></th>\n",
       "      <th></th>\n",
       "      <th></th>\n",
       "      <th></th>\n",
       "      <th></th>\n",
       "      <th></th>\n",
       "      <th></th>\n",
       "      <th></th>\n",
       "    </tr>\n",
       "  </thead>\n",
       "  <tbody>\n",
       "    <tr>\n",
       "      <th>Shreya Kulkarni</th>\n",
       "      <td>4.0</td>\n",
       "      <td>5.0</td>\n",
       "      <td>3.0</td>\n",
       "      <td>4.0</td>\n",
       "      <td>4.0</td>\n",
       "      <td>5.0</td>\n",
       "      <td>3.0</td>\n",
       "      <td>3.0</td>\n",
       "      <td>4.0</td>\n",
       "      <td>5.0</td>\n",
       "      <td>4.0</td>\n",
       "      <td>5.0</td>\n",
       "      <td>4.0</td>\n",
       "      <td>4.5</td>\n",
       "      <td>4.0</td>\n",
       "      <td>4.0</td>\n",
       "    </tr>\n",
       "    <tr>\n",
       "      <th>Rohit Ukirde</th>\n",
       "      <td>5.0</td>\n",
       "      <td>4.0</td>\n",
       "      <td>5.0</td>\n",
       "      <td>5.0</td>\n",
       "      <td>5.0</td>\n",
       "      <td>3.0</td>\n",
       "      <td>3.0</td>\n",
       "      <td>2.0</td>\n",
       "      <td>1.0</td>\n",
       "      <td>5.0</td>\n",
       "      <td>3.0</td>\n",
       "      <td>3.0</td>\n",
       "      <td>2.0</td>\n",
       "      <td>5.0</td>\n",
       "      <td>3.0</td>\n",
       "      <td>2.0</td>\n",
       "    </tr>\n",
       "    <tr>\n",
       "      <th>Rajesh Jaiswal</th>\n",
       "      <td>4.0</td>\n",
       "      <td>3.0</td>\n",
       "      <td>3.0</td>\n",
       "      <td>4.0</td>\n",
       "      <td>4.0</td>\n",
       "      <td>5.0</td>\n",
       "      <td>4.0</td>\n",
       "      <td>5.0</td>\n",
       "      <td>4.0</td>\n",
       "      <td>5.0</td>\n",
       "      <td>5.0</td>\n",
       "      <td>3.0</td>\n",
       "      <td>3.0</td>\n",
       "      <td>3.0</td>\n",
       "      <td>5.0</td>\n",
       "      <td>5.0</td>\n",
       "    </tr>\n",
       "    <tr>\n",
       "      <th>Gaurav Karale</th>\n",
       "      <td>5.0</td>\n",
       "      <td>4.0</td>\n",
       "      <td>4.0</td>\n",
       "      <td>3.0</td>\n",
       "      <td>4.0</td>\n",
       "      <td>4.0</td>\n",
       "      <td>3.0</td>\n",
       "      <td>3.0</td>\n",
       "      <td>4.0</td>\n",
       "      <td>5.0</td>\n",
       "      <td>4.0</td>\n",
       "      <td>4.0</td>\n",
       "      <td>4.0</td>\n",
       "      <td>5.0</td>\n",
       "      <td>5.0</td>\n",
       "      <td>5.0</td>\n",
       "    </tr>\n",
       "    <tr>\n",
       "      <th>Chaitanya Varma</th>\n",
       "      <td>4.0</td>\n",
       "      <td>1.0</td>\n",
       "      <td>4.0</td>\n",
       "      <td>4.0</td>\n",
       "      <td>5.0</td>\n",
       "      <td>4.0</td>\n",
       "      <td>3.5</td>\n",
       "      <td>4.0</td>\n",
       "      <td>3.0</td>\n",
       "      <td>5.0</td>\n",
       "      <td>4.0</td>\n",
       "      <td>5.0</td>\n",
       "      <td>4.0</td>\n",
       "      <td>4.0</td>\n",
       "      <td>3.0</td>\n",
       "      <td>4.0</td>\n",
       "    </tr>\n",
       "    <tr>\n",
       "      <th>Bhuvana Posina</th>\n",
       "      <td>5.0</td>\n",
       "      <td>4.0</td>\n",
       "      <td>4.0</td>\n",
       "      <td>5.0</td>\n",
       "      <td>3.0</td>\n",
       "      <td>5.0</td>\n",
       "      <td>3.0</td>\n",
       "      <td>3.0</td>\n",
       "      <td>4.0</td>\n",
       "      <td>5.0</td>\n",
       "      <td>3.0</td>\n",
       "      <td>5.0</td>\n",
       "      <td>3.0</td>\n",
       "      <td>3.0</td>\n",
       "      <td>3.0</td>\n",
       "      <td>5.0</td>\n",
       "    </tr>\n",
       "    <tr>\n",
       "      <th>Benjamin Baysinger</th>\n",
       "      <td>5.0</td>\n",
       "      <td>4.0</td>\n",
       "      <td>5.0</td>\n",
       "      <td>5.0</td>\n",
       "      <td>3.0</td>\n",
       "      <td>2.0</td>\n",
       "      <td>2.0</td>\n",
       "      <td>4.0</td>\n",
       "      <td>4.0</td>\n",
       "      <td>4.0</td>\n",
       "      <td>4.0</td>\n",
       "      <td>5.0</td>\n",
       "      <td>1.0</td>\n",
       "      <td>4.0</td>\n",
       "      <td>3.0</td>\n",
       "      <td>2.0</td>\n",
       "    </tr>\n",
       "    <tr>\n",
       "      <th>Ashutosh Sureka</th>\n",
       "      <td>5.0</td>\n",
       "      <td>4.0</td>\n",
       "      <td>5.0</td>\n",
       "      <td>5.0</td>\n",
       "      <td>5.0</td>\n",
       "      <td>5.0</td>\n",
       "      <td>0.0</td>\n",
       "      <td>5.0</td>\n",
       "      <td>2.0</td>\n",
       "      <td>3.0</td>\n",
       "      <td>5.0</td>\n",
       "      <td>3.0</td>\n",
       "      <td>3.0</td>\n",
       "      <td>2.0</td>\n",
       "      <td>2.0</td>\n",
       "      <td>4.0</td>\n",
       "    </tr>\n",
       "  </tbody>\n",
       "</table>\n",
       "</div>"
      ],
      "text/plain": [
       "                    American Sniper  The Hunger Games: Mockingjay - Part 1  \\\n",
       "Name                                                                         \n",
       "Shreya Kulkarni                 4.0                                    5.0   \n",
       "Rohit Ukirde                    5.0                                    4.0   \n",
       "Rajesh Jaiswal                  4.0                                    3.0   \n",
       "Gaurav Karale                   5.0                                    4.0   \n",
       "Chaitanya Varma                 4.0                                    1.0   \n",
       "Bhuvana Posina                  5.0                                    4.0   \n",
       "Benjamin Baysinger              5.0                                    4.0   \n",
       "Ashutosh Sureka                 5.0                                    4.0   \n",
       "\n",
       "                    Guardians of the Galaxy  The Lego Movie  The Hobbit  \\\n",
       "Name                                                                      \n",
       "Shreya Kulkarni                         3.0             4.0         4.0   \n",
       "Rohit Ukirde                            5.0             5.0         5.0   \n",
       "Rajesh Jaiswal                          3.0             4.0         4.0   \n",
       "Gaurav Karale                           4.0             3.0         4.0   \n",
       "Chaitanya Varma                         4.0             4.0         5.0   \n",
       "Bhuvana Posina                          4.0             5.0         3.0   \n",
       "Benjamin Baysinger                      5.0             5.0         3.0   \n",
       "Ashutosh Sureka                         5.0             5.0         5.0   \n",
       "\n",
       "                    Transformers  Malificent  Big Hero 6  Godzilla  \\\n",
       "Name                                                                 \n",
       "Shreya Kulkarni              5.0         3.0         3.0       4.0   \n",
       "Rohit Ukirde                 3.0         3.0         2.0       1.0   \n",
       "Rajesh Jaiswal               5.0         4.0         5.0       4.0   \n",
       "Gaurav Karale                4.0         3.0         3.0       4.0   \n",
       "Chaitanya Varma              4.0         3.5         4.0       3.0   \n",
       "Bhuvana Posina               5.0         3.0         3.0       4.0   \n",
       "Benjamin Baysinger           2.0         2.0         4.0       4.0   \n",
       "Ashutosh Sureka              5.0         0.0         5.0       2.0   \n",
       "\n",
       "                    Interstellar  How to Train your Dragon 2  Gone Girl  \\\n",
       "Name                                                                      \n",
       "Shreya Kulkarni              5.0                         4.0        5.0   \n",
       "Rohit Ukirde                 5.0                         3.0        3.0   \n",
       "Rajesh Jaiswal               5.0                         5.0        3.0   \n",
       "Gaurav Karale                5.0                         4.0        4.0   \n",
       "Chaitanya Varma              5.0                         4.0        5.0   \n",
       "Bhuvana Posina               5.0                         3.0        5.0   \n",
       "Benjamin Baysinger           4.0                         4.0        5.0   \n",
       "Ashutosh Sureka              3.0                         5.0        3.0   \n",
       "\n",
       "                    Divergent  The Fault in Our Stars  Unbroken  \\\n",
       "Name                                                              \n",
       "Shreya Kulkarni           4.0                     4.5       4.0   \n",
       "Rohit Ukirde              2.0                     5.0       3.0   \n",
       "Rajesh Jaiswal            3.0                     3.0       5.0   \n",
       "Gaurav Karale             4.0                     5.0       5.0   \n",
       "Chaitanya Varma           4.0                     4.0       3.0   \n",
       "Bhuvana Posina            3.0                     3.0       3.0   \n",
       "Benjamin Baysinger        1.0                     4.0       3.0   \n",
       "Ashutosh Sureka           3.0                     2.0       2.0   \n",
       "\n",
       "                    300: Rise of an Empire  \n",
       "Name                                        \n",
       "Shreya Kulkarni                        4.0  \n",
       "Rohit Ukirde                           2.0  \n",
       "Rajesh Jaiswal                         5.0  \n",
       "Gaurav Karale                          5.0  \n",
       "Chaitanya Varma                        4.0  \n",
       "Bhuvana Posina                         5.0  \n",
       "Benjamin Baysinger                     2.0  \n",
       "Ashutosh Sureka                        4.0  "
      ]
     },
     "execution_count": 24,
     "metadata": {},
     "output_type": "execute_result"
    }
   ],
   "source": [
    "#the movies the class has seen\n",
    "class_ratings = M.dropna()\n",
    "#the movie the class rated the highest\n",
    "class_ratings.sort(ascending=False)"
   ]
  },
  {
   "cell_type": "markdown",
   "metadata": {},
   "source": [
    "####Based on Pearson's R and the ratings of classmates, Since I have already seen 300: Rise of an Empire,Transformers,Interstellar and the Divergent, Next i would like to watch the Gone girl and the Lego movie based on my classmates experience."
   ]
  },
  {
   "cell_type": "markdown",
   "metadata": {},
   "source": [
    "### Question 3: Bonus Question...  For all the movies you haven't seen, can you predict how you'd rate them using your the class reviews? (10 pts)"
   ]
  },
  {
   "cell_type": "code",
   "execution_count": 25,
   "metadata": {
    "collapsed": true
   },
   "outputs": [],
   "source": [
    "ratings = len(my_ratings)\n",
    "max_rating = my_ratings.max()\n",
    "fav_movies = []\n",
    "for i in range(ratings):\n",
    "    if my_ratings[i] == max_rating:\n",
    "        fav_movies.append(my_ratings.index[i])"
   ]
  },
  {
   "cell_type": "code",
   "execution_count": 26,
   "metadata": {
    "collapsed": true
   },
   "outputs": [],
   "source": [
    "friends_ratings = M.drop('Ali Touseef')"
   ]
  },
  {
   "cell_type": "code",
   "execution_count": 27,
   "metadata": {
    "collapsed": false
   },
   "outputs": [],
   "source": [
    "num_of_movies = len(friends_ratings.columns)\n",
    "avg_ratings = dict()\n",
    "for i in range(num_of_movies):\n",
    "    key = friends_ratings.columns[i]\n",
    "    value = friends_ratings[key].mean()\n",
    "    avg_ratings[key] = value"
   ]
  },
  {
   "cell_type": "code",
   "execution_count": 28,
   "metadata": {
    "collapsed": false
   },
   "outputs": [],
   "source": [
    "avg_ratings = sorted(avg_ratings.items(), key=lambda x: x[1], reverse=True)"
   ]
  },
  {
   "cell_type": "code",
   "execution_count": 29,
   "metadata": {
    "collapsed": false
   },
   "outputs": [],
   "source": [
    "avgs = len(avg_ratings)\n",
    "to_watch = []\n",
    "for i in range(avgs):\n",
    "    if avg_ratings[i][0] not in my_ratings:\n",
    "        to_watch.append(avg_ratings[i])"
   ]
  },
  {
   "cell_type": "code",
   "execution_count": 30,
   "metadata": {
    "collapsed": false,
    "scrolled": true
   },
   "outputs": [
    {
     "data": {
      "text/plain": [
       "[('Big Hero 6', 3.9622222222222225),\n",
       " ('Gone Girl', 3.9107142857142856),\n",
       " ('The Fault in Our Stars', 3.6447368421052633),\n",
       " ('The Lego Movie', 3.4035087719298245)]"
      ]
     },
     "execution_count": 30,
     "metadata": {},
     "output_type": "execute_result"
    }
   ],
   "source": [
    "to_watch"
   ]
  }
 ],
 "metadata": {
  "anaconda-cloud": {},
  "kernelspec": {
   "display_name": "Python [Root]",
   "language": "python",
   "name": "Python [Root]"
  },
  "language_info": {
   "codemirror_mode": {
    "name": "ipython",
    "version": 2
   },
   "file_extension": ".py",
   "mimetype": "text/x-python",
   "name": "python",
   "nbconvert_exporter": "python",
   "pygments_lexer": "ipython2",
   "version": "2.7.12"
  }
 },
 "nbformat": 4,
 "nbformat_minor": 0
}
